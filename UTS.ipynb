{
 "cells": [
  {
   "cell_type": "raw",
   "id": "3fb2874e-0c12-4789-9bb2-8b41f51686c9",
   "metadata": {},
   "source": [
    "UTS Natural Language Processing\n",
    "Dosen : Taslim, M.Kom, MTA, MCF\n",
    "\n",
    "Nama : Muhammad Sidiq\n",
    "Nim : 210401083"
   ]
  },
  {
   "cell_type": "markdown",
   "id": "19c719d0-4427-443c-bc69-9fdbeeede7e3",
   "metadata": {},
   "source": [
    "1.Buat menu untuk translate"
   ]
  },
  {
   "cell_type": "code",
   "execution_count": 5,
   "id": "fedd23ed-d2d8-408b-9012-ba22fa07a724",
   "metadata": {
    "editable": true,
    "scrolled": true,
    "slideshow": {
     "slide_type": ""
    },
    "tags": []
   },
   "outputs": [
    {
     "name": "stdin",
     "output_type": "stream",
     "text": [
      "Silahkan input kalimat =  Kemana kamu akan pergi?\n"
     ]
    },
    {
     "name": "stdout",
     "output_type": "stream",
     "text": [
      "Pilih translate:\n",
      "a. Bahasa Inggris\n",
      "b. Bahasa Perancis\n",
      "c. Bahasa Spanyol\n"
     ]
    },
    {
     "name": "stdin",
     "output_type": "stream",
     "text": [
      "Pilih jenis bahasa =  a\n"
     ]
    },
    {
     "name": "stdout",
     "output_type": "stream",
     "text": [
      "Terjadi kesalahan: [Errno -2] Name or service not known\n"
     ]
    }
   ],
   "source": [
    "from googletrans import Translator\n",
    "\n",
    "def translate_text():\n",
    "    # Get user input for the text to be translated\n",
    "    text_to_translate = input(\"Silahkan input kalimat = \")\n",
    "\n",
    "    # Display language options\n",
    "    print(\"Pilih translate:\")\n",
    "    print(\"a. Bahasa Inggris\")\n",
    "    print(\"b. Bahasa Perancis\")\n",
    "    print(\"c. Bahasa Spanyol\")\n",
    "\n",
    "    # Get user input for language choice\n",
    "    choice = input(\"Pilih jenis bahasa = \")\n",
    "\n",
    "    # Translate based on user's choice\n",
    "    translator = Translator()\n",
    "\n",
    "    if choice.lower() == \"a\":\n",
    "        dest_lang = \"en\"\n",
    "    elif choice.lower() == \"b\":\n",
    "        dest_lang = \"fr\"\n",
    "    elif choice.lower() == \"c\":\n",
    "        dest_lang = \"es\"\n",
    "    else:\n",
    "        print(\"Pilihan tidak valid. Silakan pilih a, b, atau c.\")\n",
    "        return\n",
    "\n",
    "    try:\n",
    "        translation = translator.translate(text_to_translate, dest=dest_lang)\n",
    "        print(\"Hasil translate:\", translation.text)\n",
    "    except Exception as e:\n",
    "        print(f\"Terjadi kesalahan: {e}\")\n",
    "\n",
    "# Call the function to translate text\n",
    "translate_text()"
   ]
  },
  {
   "cell_type": "markdown",
   "id": "5a61f021-6be9-438a-9307-9e396490d6b1",
   "metadata": {},
   "source": [
    "2. Buat kasus sentiment analisis untuk kalimat yang ditulis dalam bahasa Indonesia"
   ]
  },
  {
   "cell_type": "code",
   "execution_count": null,
   "id": "2bb58788-bb9b-4c25-9599-da942f04b490",
   "metadata": {
    "editable": true,
    "scrolled": true,
    "slideshow": {
     "slide_type": ""
    },
    "tags": []
   },
   "outputs": [],
   "source": [
    "import nltk\n",
    "from nltk.corpus import stopwords\n",
    "from nltk.stem import PorterStemmer\n",
    "from nltk.tokenize import word_tokenize\n",
    "\n",
    "nltk.download(\"punkt\")\n",
    "nltk.download(\"stopwords\")\n",
    "\n",
    "def preprocess_text(text):\n",
    "    # Tokenize the text\n",
    "    tokens = word_tokenize(text)\n",
    "\n",
    "    # Remove stopwords and perform stemming\n",
    "    stop_words = set(stopwords.words(\"indonesian\"))\n",
    "    ps = PorterStemmer()\n",
    "    preprocessed_tokens = [ps.stem(word) for word in tokens if word.lower() not in stop_words]\n",
    "\n",
    "    # Reconstruct the preprocessed text\n",
    "    preprocessed_text = \" \".join(preprocessed_tokens)\n",
    "\n",
    "    return preprocessed_text\n",
    "\n",
    "def sentiment_analysis(text):\n",
    "    # Preprocess the text\n",
    "    preprocessed_text = preprocess_text(text)\n",
    "\n",
    "    # Perform a simple sentiment analysis based on positive and negative keywords\n",
    "    positive_keywords = {\n",
    "        \"senang\", \"bahagia\", \"puas\", \"bersemangat\", \"optimis\", \"sukses\", \"cemerlang\",\n",
    "        \"terinspirasi\", \"produktif\", \"kreatif\", \"bijaksana\", \"terbuka\", \"bersyukur\",\n",
    "        \"harmonis\", \"percaya diri\", \"penuh semangat\", \"berhasil\", \"membahagiakan\",\n",
    "        \"berdaya\", \"sejahtera\", \"membanggakan\", \"menghibur\"\n",
    "    }\n",
    "    negative_keywords = {\n",
    "        \"sedih\", \"kecewa\", \"marah\", \"frustrasi\", \"putus asa\", \"patah hati\", \"cemas\",\n",
    "        \"stres\", \"kesal\", \"putus asa\", \"pesimis\", \"lemah\", \"gelisah\", \"malas\", \"kecewa\",\n",
    "        \"kacau\", \"sulit\", \"merana\", \"gelap\", \"menyedihkan\", \"sakit hati\"\n",
    "    }\n",
    "\n",
    "    # Check for positive or negative sentiment\n",
    "    sentiment = \"Netral\"\n",
    "    for word in preprocessed_text.split():\n",
    "        if word in positive_keywords:\n",
    "            sentiment = \"Positif\"\n",
    "            break\n",
    "        elif word in negative_keywords:\n",
    "            sentiment = \"Negatif\"\n",
    "            break\n",
    "\n",
    "    return sentiment\n",
    "\n",
    "# Get user input for the text\n",
    "input_text = input(\"Input kalimat = \")\n",
    "\n",
    "# Perform sentiment analysis\n",
    "result = sentiment_analysis(input_text)\n",
    "\n",
    "# Display the sentiment result\n",
    "print(\"Sentiment =\", result)"
   ]
  },
  {
   "cell_type": "markdown",
   "id": "aec1883c-94c3-402d-809e-9de029ffef94",
   "metadata": {},
   "source": [
    "3.Buat program chatbot untuk sektor pemerintahan (NIM Ganjil)"
   ]
  },
  {
   "cell_type": "code",
   "execution_count": 2,
   "id": "2445f968-4554-4f33-9f10-8de7774140a2",
   "metadata": {
    "editable": true,
    "scrolled": true,
    "slideshow": {
     "slide_type": ""
    },
    "tags": []
   },
   "outputs": [
    {
     "name": "stdout",
     "output_type": "stream",
     "text": [
      "Selamat datang di ChatBot Pemerintahan. Silakan bertanya atau ketik 'selesai' untuk keluar.\n"
     ]
    },
    {
     "name": "stdin",
     "output_type": "stream",
     "text": [
      "Pertanyaan:  bagaimana pemerintah mengatasi korupsi?\n"
     ]
    },
    {
     "name": "stdout",
     "output_type": "stream",
     "text": [
      "ChatBot: Upaya pemerintah untuk mengatasi korupsi melibatkan langkah-langkah seperti penguatan sistem hukum, peningkatan transparansi, pembentukan lembaga anti-korupsi, dan pendidikan masyarakat tentang dampak buruk korupsi. Implementasi hukuman yang tegas terhadap pelaku korupsi juga menjadi faktor penting dalam memberantas korupsi.\n"
     ]
    },
    {
     "name": "stdin",
     "output_type": "stream",
     "text": [
      "Pertanyaan:  selesai\n"
     ]
    },
    {
     "name": "stdout",
     "output_type": "stream",
     "text": [
      "Terimakasih, telah menggunakan ChatBot Pemerintahan. Baik, jika ada pertanyaan lain atau bantuan yang diperlukan di lain waktu, jangan ragu untuk bertanya. Terima kasih dan semoga harimu menyenangkan!\n"
     ]
    }
   ],
   "source": [
    "import difflib\n",
    "\n",
    "# Daftar pertanyaan dan jawaban sektor pemerintahan\n",
    "pertanyaan_jawaban_pemerintahan = {\n",
    "    \"Apa perbedaan antara pemerintah pusat dan pemerintah daerah?\":\"Pemerintah pusat (atau federal) bertanggung jawab atas kebijakan nasional dan urusan luar negeri, sementara pemerintah daerah (atau lokal) fokus pada kebijakan dan layanan di tingkat lokal, seperti pendidikan, kesehatan, dan infrastruktur.\",\n",
    "    \"Bagaimana proses pembuatan kebijakan di pemerintah?\":\"Proses pembuatan kebijakan di pemerintah melibatkan beberapa tahap, mulai dari identifikasi masalah, perumusan kebijakan, pengambilan keputusan, implementasi, hingga evaluasi. Keterlibatan berbagai pihak dan analisis yang cermat menjadi kunci dalam setiap tahapan tersebut.\",\n",
    "    \"Bagaimana pemerintah mengatasi korupsi?\":\"Upaya pemerintah untuk mengatasi korupsi melibatkan langkah-langkah seperti penguatan sistem hukum, peningkatan transparansi, pembentukan lembaga anti-korupsi, dan pendidikan masyarakat tentang dampak buruk korupsi. Implementasi hukuman yang tegas terhadap pelaku korupsi juga menjadi faktor penting dalam memberantas korupsi.\",\n",
    "    \"Bagaimana pemerintah mengelola keuangan negara?\":\"Pengelolaan keuangan negara melibatkan penyusunan anggaran, pengumpulan pajak, pengeluaran untuk program-program pemerintah, dan pengawasan terhadap keuangan publik. Proses ini melibatkan Badan Perencanaan, Kementerian Keuangan, dan lembaga terkait untuk memastikan keuangan negara dielola dengan efisien dan transparan.\",\n",
    "    \"Apa peran utama pemerintah dalam suatu negara?\":\"Pemerintah memiliki peran utama dalam menjaga kestabilan, keamanan, dan kesejahteraan masyarakat. Fungsi utamanya termasuk pembuatan kebijakan, penerapan hukum, penyediaan layanan publik, dan pengelolaan sumber daya negara.\",\n",
    "    \"Apa peran kementerian dalam negeri?\": \"Kementerian Dalam Negeri memiliki peran penting dalam mengelola administrasi pemerintahan di tingkat lokal, termasuk pengawasan desa, kependudukan, dan pembangunan daerah.\",\n",
    "    \"Bagaimana perkembangan implementasi e-government di negara kita?\": \"Pemerintah terus mendorong implementasi e-government untuk meningkatkan transparansi, efisiensi, dan keterlibatan masyarakat dalam proses administrasi.\",\n",
    "    \"Apa proyek infrastruktur strategis yang sedang dikerjakan pemerintah?\": \"Beberapa proyek infrastruktur strategis saat ini melibatkan pembangunan jalan tol, perluasan jaringan transportasi umum, dan pengembangan fasilitas publik untuk mendukung pertumbuhan ekonomi dan kesejahteraan masyarakat.\",\n",
    "    \"Bagaimana pemerintah merespons isu-isu sosial terkini?\": \"Pemerintah aktif dalam menanggapi isu-isu sosial seperti pendidikan, kesehatan, dan kemiskinan melalui kebijakan dan program-program spesifik untuk meningkatkan kesejahteraan masyarakat.\",\n",
    "}\n",
    "\n",
    "# Fungsi chatbot sektor pemerintahan\n",
    "def chatbot_pemerintahan(pertanyaan):\n",
    "    pertanyaan_lower = pertanyaan.lower()\n",
    "    pertanyaan_terdekat = difflib.get_close_matches(pertanyaan_lower, pertanyaan_jawaban_pemerintahan.keys(), n=1, cutoff=0.6)\n",
    "    \n",
    "    if pertanyaan_terdekat:\n",
    "        jawaban = pertanyaan_jawaban_pemerintahan[pertanyaan_terdekat[0]]\n",
    "    else:\n",
    "        jawaban = \"Maaf, Saya tidak tahu jawabannya terkait sektor pemerintahan.\"\n",
    "    \n",
    "    return jawaban\n",
    "\n",
    "# Interaksi dengan chatbot sektor pemerintahan\n",
    "print(\"Selamat datang di ChatBot Pemerintahan. Silakan bertanya atau ketik 'selesai' untuk keluar.\")\n",
    "while True:\n",
    "    input_pengguna = input(\"Pertanyaan: \")\n",
    "    if input_pengguna.lower() == \"selesai\":\n",
    "        print(\"Terimakasih, telah menggunakan ChatBot Pemerintahan. Baik, jika ada pertanyaan lain atau bantuan yang diperlukan di lain waktu, jangan ragu untuk bertanya. Terima kasih dan semoga harimu menyenangkan!\")\n",
    "        break\n",
    "    jawaban_chatbot = chatbot_pemerintahan(input_pengguna)\n",
    "    print(\"ChatBot:\", jawaban_chatbot)\n"
   ]
  },
  {
   "cell_type": "markdown",
   "id": "55f332b6-e7fb-411b-837a-2077343cbcab",
   "metadata": {},
   "source": [
    "4.Lakukan proses case folding, dan tokenisasi pada kalimat berikut sehingga di dapat kalimat dalam bentuk tokenisasi kata dan 3 ngram tokenisasi frasa yang bebas dari tanda tanda baca dan angka."
   ]
  },
  {
   "cell_type": "code",
   "execution_count": 1,
   "id": "75a440b9-019a-4fb5-8c25-4747ed6d951d",
   "metadata": {
    "editable": true,
    "slideshow": {
     "slide_type": ""
    },
    "tags": []
   },
   "outputs": [
    {
     "name": "stdout",
     "output_type": "stream",
     "text": [
      "Tokenisasi Kata:\n",
      "['pada', 'pukul', 'wib', 'tim', 'it', 'sedang', 'menyiapkan', 'rencana', 'migrasi', 'sistem', 'operasi', 'ke', 'versi', 'terbarurencana', 'ini', 'melibatkan', 'sekitar', 'komputer', 'termasuk', 'komputerkomputer', 'dengan', 'spesifikasi', 'tertentu', 'seperti', 'ram', 'dan', 'prosesor', 'intel', 'core', 'akan', 'dimulai', 'pada', 'tanggal', 'dan', 'diperkirakan', 'akan', 'selesai', 'dalam', 'kurun', 'waktu', 'dua', 'mingguuntuk', 'memastikan', 'kelancaran', 'proses', 'diperlukan', 'kolaborasi', 'antara', 'departemen', 'it', 'bagian', 'operasional', 'dan', 'vendor', 'yang', 'bertanggung', 'jawab', 'atas', 'perangkat', 'lunak', 'yang', 'digunakan']\n",
      "\n",
      "Tokenisasi 3-gram Frasa:\n",
      "[('pada', 'pukul', 'wib'), ('pukul', 'wib', 'tim'), ('wib', 'tim', 'it'), ('tim', 'it', 'sedang'), ('it', 'sedang', 'menyiapkan'), ('sedang', 'menyiapkan', 'rencana'), ('menyiapkan', 'rencana', 'migrasi'), ('rencana', 'migrasi', 'sistem'), ('migrasi', 'sistem', 'operasi'), ('sistem', 'operasi', 'ke'), ('operasi', 'ke', 'versi'), ('ke', 'versi', 'terbarurencana'), ('versi', 'terbarurencana', 'ini'), ('terbarurencana', 'ini', 'melibatkan'), ('ini', 'melibatkan', 'sekitar'), ('melibatkan', 'sekitar', 'komputer'), ('sekitar', 'komputer', 'termasuk'), ('komputer', 'termasuk', 'komputerkomputer'), ('termasuk', 'komputerkomputer', 'dengan'), ('komputerkomputer', 'dengan', 'spesifikasi'), ('dengan', 'spesifikasi', 'tertentu'), ('spesifikasi', 'tertentu', 'seperti'), ('tertentu', 'seperti', 'ram'), ('seperti', 'ram', 'dan'), ('ram', 'dan', 'prosesor'), ('dan', 'prosesor', 'intel'), ('prosesor', 'intel', 'core'), ('intel', 'core', 'akan'), ('core', 'akan', 'dimulai'), ('akan', 'dimulai', 'pada'), ('dimulai', 'pada', 'tanggal'), ('pada', 'tanggal', 'dan'), ('tanggal', 'dan', 'diperkirakan'), ('dan', 'diperkirakan', 'akan'), ('diperkirakan', 'akan', 'selesai'), ('akan', 'selesai', 'dalam'), ('selesai', 'dalam', 'kurun'), ('dalam', 'kurun', 'waktu'), ('kurun', 'waktu', 'dua'), ('waktu', 'dua', 'mingguuntuk'), ('dua', 'mingguuntuk', 'memastikan'), ('mingguuntuk', 'memastikan', 'kelancaran'), ('memastikan', 'kelancaran', 'proses'), ('kelancaran', 'proses', 'diperlukan'), ('proses', 'diperlukan', 'kolaborasi'), ('diperlukan', 'kolaborasi', 'antara'), ('kolaborasi', 'antara', 'departemen'), ('antara', 'departemen', 'it'), ('departemen', 'it', 'bagian'), ('it', 'bagian', 'operasional'), ('bagian', 'operasional', 'dan'), ('operasional', 'dan', 'vendor'), ('dan', 'vendor', 'yang'), ('vendor', 'yang', 'bertanggung'), ('yang', 'bertanggung', 'jawab'), ('bertanggung', 'jawab', 'atas'), ('jawab', 'atas', 'perangkat'), ('atas', 'perangkat', 'lunak'), ('perangkat', 'lunak', 'yang'), ('lunak', 'yang', 'digunakan')]\n"
     ]
    }
   ],
   "source": [
    "import re\n",
    "\n",
    "from nltk import ngrams\n",
    "from nltk.tokenize import word_tokenize\n",
    "\n",
    "# Kalimat yang diberikan\n",
    "kalimat = ( \n",
    "    \"Pada pukul 15.30 WIB, tim IT sedang menyiapkan rencana migrasi sistem operasi ke versi terbaru.\"\n",
    "    \"Rencana ini melibatkan sekitar 50 komputer, termasuk komputer-komputer dengan spesifikasi tertentu seperti RAM 16GB, dan prosesor Intel Core i7.\" \n",
    "    \"Tugasnya akan dimulai pada tanggal 25/02/2024, dan diperkirakan akan selesai dalam kurun waktu dua minggu.\" \n",
    "    \"Untuk memastikan kelancaran proses, diperlukan kolaborasi antara departemen IT,\" \n",
    "    \"bagian operasional, dan vendor yang bertanggung jawab atas perangkat lunak yang digunakan.\"\n",
    ")\n",
    "\n",
    "# Case folding (lowercasing)\n",
    "kalimat_lower = kalimat.lower()\n",
    "\n",
    "# Tokenisasi kata\n",
    "tokens_kata = [\n",
    "    re.sub(r\"[^\\w\\s]\", \"\", token) for token in word_tokenize(kalimat_lower) if not any(char.isdigit() for char in token)\n",
    "]\n",
    "\n",
    "# Hapus token yang kosong setelah pemrosesan\n",
    "tokens_kata = list(filter(None, tokens_kata))\n",
    "\n",
    "# Tokenisasi n-gram frasa (trigram dalam contoh ini)\n",
    "n = 3\n",
    "tokens_frasa = list(ngrams(tokens_kata, n))\n",
    "\n",
    "# Tampilkan hasil\n",
    "print(\"Tokenisasi Kata:\")\n",
    "print(tokens_kata)\n",
    "\n",
    "print(\"\\nTokenisasi 3-gram Frasa:\")\n",
    "print(tokens_frasa)\n"
   ]
  },
  {
   "cell_type": "markdown",
   "id": "4437c7fd-020e-4de3-90ac-a560205efd15",
   "metadata": {},
   "source": [
    "5.Review Paper terkait dengan NLP"
   ]
  },
  {
   "cell_type": "raw",
   "id": "a9033bc4-3f3a-4d70-9943-569658764d21",
   "metadata": {},
   "source": [
    "[1]\tD. Van Le, J. Montgomery, K. C. Kirkby, and J. Scanlan, “Risk prediction using natural language processing of electronic mental health records in an inpatient forensic psychiatry setting,” J. Biomed. Inform., vol. 86, no. August, pp. 49–58, 2018, doi: 10.1016/j.jbi.2018.08.007.\n",
    "\n",
    "[2]\tL. Ismail, N. Shahin, H. Materwala, and A. Hennebelle, “ML-NLPEmot : Machine Learning-Natural Language Processing ( NLP ) Event-based Emotion Detection Proactive Framework Addressing Mental Health,” IEEE Access, vol. PP, no. Ml, p. 1, 2023, doi: 10.1109/ACCESS.2023.3343121."
   ]
  },
  {
   "cell_type": "raw",
   "id": "b4d8b4b7-364a-4d36-b715-147d178a81e5",
   "metadata": {},
   "source": [
    "[1]Artikel ini membahas penggunaan pemrosesan bahasa alami (NLP) untuk memprediksi skor penilaian risiko dalam pengaturan psikiatri forensik rawat inap menggunakan catatan kesehatan elektronik. Tujuan penelitian ini adalah untuk membandingkan efektivitas kamus NLP dan algoritma pembelajaran mesin dalam memprediksi skor penilaian risiko. Metode penelitian menggunakan NLP, kamus, dan pembelajaran mesin untuk menganalisis catatan kesehatan elektronik. Hasilnya menunjukkan bahwa NLP, bersama dengan kamus dan pembelajaran mesin, dapat memprediksi penilaian risiko berdasarkan konten EHR. Namun, diperlukan penelitian lebih lanjut untuk menentukan kegunaan NLP dalam memprediksi tindakan melukai diri sendiri, melukai orang lain, atau menjadi korban.\n",
    "\n",
    "[2]Artikel ini membahas pengembangan kerangka kerja menggunakan machine learning dan pemrosesan bahasa alami untuk mendeteksi emosi publik berdasarkan unggahan media sosial sebagai respons terhadap peristiwa tertentu. Tujuan dari kerangka kerja ini adalah untuk memantau dan mengukur emosi pada tingkat populasi untuk membantu pemerintah dalam merespons sentimen publik secara efektif. Penelitian ini mengevaluasi kerangka kerja tersebut dengan menggunakan studi kasus respons emosional terhadap kampanye vaksinasi COVID-19 di Uni Emirat Arab. Hasilnya menunjukkan bahwa kerangka kerja ini mampu memprediksi emosi dengan akurasi tinggi, dan memiliki potensi untuk mendukung spesialis kesehatan mental dan pembuat kebijakan dalam memahami dan menangani emosi publik. Metode yang digunakan meliputi pemahaman domain, pengumpulan data, pra-pemrosesan data, anotasi data, ekstraksi fitur, pembangunan model, evaluasi model, dan implementasi model. Studi ini juga menyoroti pentingnya kerangka kerja berbasis peristiwa proaktif untuk memahami dan menangani emosi publik selama peristiwa signifikan seperti pandemi, serta menekankan pentingnya mempertimbangkan berbagai peristiwa dalam kerangka kerja untuk mengembangkan strategi pencegahan dan kesehatan publik yang tepat waktu dan disesuaikan."
   ]
  },
  {
   "cell_type": "raw",
   "id": "658ae845-12ff-405c-812e-c74ba013ca09",
   "metadata": {},
   "source": [
    "Perbandingan Metode:\n",
    "Artikel 1:\n",
    "Fokus pada analisis catatan kesehatan elektronik dengan menggunakan NLP, kamus, dan pembelajaran mesin.\n",
    "Artikel 2:\n",
    "Menggunakan machine learning dan NLP untuk analisis sentimen dari unggahan media sosial sebagai respons terhadap peristiwa tertentu.\n",
    "\n",
    "Perbandingan Hasil:\n",
    "Artikel 1:\n",
    "Memfokuskan pada prediksi penilaian risiko dalam konteks psikiatri forensik rawat inap.\n",
    "Artikel 2:\n",
    "Memfokuskan pada prediksi emosi publik sebagai respons terhadap peristiwa, dengan penekanan pada kampanye vaksinasi COVID-19.\n",
    "\n",
    "Dampak Potensial pada Pengembangan NLP:\n",
    "Artikel 1 memberikan kontribusi terhadap penggunaan NLP dalam konteks kesehatan mental dan risiko perilaku tertentu.\n",
    "Artikel 2 menunjukkan aplikasi NLP dalam pemantauan sentimen publik, memiliki potensi dalam pengembangan solusi untuk mendukung kesehatan mental masyarakat dan kebijakan publik.\n",
    "\n",
    "Pengaruh dalam Industri Kesehatan:\n",
    "Artikel 1: Dapat meningkatkan pemahaman dan prediksi risiko perilaku dalam pengaturan psikiatri forensik rawat inap.\n",
    "Artikel 2: Mendukung penerapan solusi kesehatan mental berbasis NLP untuk memahami dan menangani respons emosional publik terhadap peristiwa kesehatan seperti vaksinasi."
   ]
  }
 ],
 "metadata": {
  "kernelspec": {
   "display_name": "Python 3 (ipykernel)",
   "language": "python",
   "name": "python3"
  },
  "language_info": {
   "codemirror_mode": {
    "name": "ipython",
    "version": 3
   },
   "file_extension": ".py",
   "mimetype": "text/x-python",
   "name": "python",
   "nbconvert_exporter": "python",
   "pygments_lexer": "ipython3",
   "version": "3.10.12"
  }
 },
 "nbformat": 4,
 "nbformat_minor": 5
}
